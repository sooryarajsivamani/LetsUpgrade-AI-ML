{
 "cells": [
  {
   "cell_type": "code",
   "execution_count": 1,
   "metadata": {},
   "outputs": [
    {
     "name": "stdout",
     "output_type": "stream",
     "text": [
      "Sum of  (4+6j)  and  (3+1j) (7+7j)\n",
      "Difference of  (4+6j)  and  (3+1j) (1+5j)\n",
      "Product of  (4+6j)  and  (3+1j) (6+22j)\n",
      "Division of  (4+6j)  and  (3+1j) (1.7999999999999998+1.4000000000000001j)\n"
     ]
    },
    {
     "data": {
      "text/plain": [
       "'\\nModulo and Floor operations are not possible on complex numbers\\n'"
      ]
     },
     "execution_count": 1,
     "metadata": {},
     "output_type": "execute_result"
    }
   ],
   "source": [
    "a = 4+6j\n",
    "b = 3+1j\n",
    "print('Sum of ',a,' and ',b, a+b)\n",
    "print('Difference of ',a,' and ',b, a-b)\n",
    "print('Product of ',a,' and ',b, a*b)\n",
    "print('Division of ',a,' and ',b, a/b)\n",
    "'''\n",
    "Modulo and Floor operations are not possible on complex numbers\n",
    "'''"
   ]
  },
  {
   "cell_type": "markdown",
   "metadata": {},
   "source": [
    "# Range() function and its parameters:\n",
    "Range() returns a list containg sequence of numbers within the specified range.\n",
    "\n",
    "## Parameters\n",
    "__Start:__ Starting point of the sequence.\n",
    "\n",
    "__Stop:__ Stopping point of the sequence. This is not included in the sequence.\n",
    "\n",
    "__Start:__ Step size between the numbers in the sequence. (Default 1)"
   ]
  },
  {
   "cell_type": "code",
   "execution_count": 3,
   "metadata": {},
   "outputs": [
    {
     "name": "stdout",
     "output_type": "stream",
     "text": [
      "1\n",
      "3\n",
      "5\n",
      "7\n",
      "9\n"
     ]
    }
   ],
   "source": [
    "#Print all odd numbers less than 10\n",
    "for i in range(1,10,2):\n",
    "    print(i)"
   ]
  },
  {
   "cell_type": "code",
   "execution_count": 5,
   "metadata": {},
   "outputs": [
    {
     "name": "stdout",
     "output_type": "stream",
     "text": [
      "Difference between  100  and  90  is  10  and is not greater than 25. Their division is  1.1111111111111112\n"
     ]
    }
   ],
   "source": [
    "x=100\n",
    "y=90\n",
    "\n",
    "if x-y > 25:\n",
    "    print('Difference between ',x,' and ',y,' is ',x-y,' and is greater than 25. Their Product is ', x*y)\n",
    "else:\n",
    "    print('Difference between ',x,' and ',y,' is ',x-y,' and is not greater than 25. Their division is ', x/y)"
   ]
  },
  {
   "cell_type": "code",
   "execution_count": 7,
   "metadata": {},
   "outputs": [
    {
     "name": "stdout",
     "output_type": "stream",
     "text": [
      "List is  [10, 13, 16, 12, 1, 1, 19, 3, 15, 19]\n",
      "Number is  10  and square of that number minus 2 is  98\n",
      "Number is  16  and square of that number minus 2 is  254\n",
      "Number is  12  and square of that number minus 2 is  142\n"
     ]
    }
   ],
   "source": [
    "import random\n",
    "rand_list = []\n",
    "for i in range(0,10):\n",
    "    rand_list.append(random.randint(1,20))\n",
    "print('List is ',rand_list)\n",
    "for num in rand_list:\n",
    "    if num %2 == 0:\n",
    "        print('Number is ',num,' and square of that number minus 2 is ',num**2-2)"
   ]
  },
  {
   "cell_type": "code",
   "execution_count": 8,
   "metadata": {},
   "outputs": [
    {
     "name": "stdout",
     "output_type": "stream",
     "text": [
      "List is  [18, 5, 14, 11, 3, 7, 16, 15, 18, 4]\n",
      "18\n",
      "16\n",
      "15\n",
      "18\n"
     ]
    }
   ],
   "source": [
    "import random\n",
    "rand_list = []\n",
    "for i in range(0,10):\n",
    "    rand_list.append(random.randint(1,20))\n",
    "print('List is ',rand_list)\n",
    "for r in rand_list:\n",
    "    if r/2 > 7:\n",
    "        print(r)"
   ]
  }
 ],
 "metadata": {
  "kernelspec": {
   "display_name": "Python 3",
   "language": "python",
   "name": "python3"
  },
  "language_info": {
   "codemirror_mode": {
    "name": "ipython",
    "version": 3
   },
   "file_extension": ".py",
   "mimetype": "text/x-python",
   "name": "python",
   "nbconvert_exporter": "python",
   "pygments_lexer": "ipython3",
   "version": "3.7.1"
  }
 },
 "nbformat": 4,
 "nbformat_minor": 2
}
