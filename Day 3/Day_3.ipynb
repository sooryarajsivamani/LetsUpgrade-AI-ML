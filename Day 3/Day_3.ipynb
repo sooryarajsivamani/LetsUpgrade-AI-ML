{
 "cells": [
  {
   "cell_type": "code",
   "execution_count": 1,
   "metadata": {},
   "outputs": [
    {
     "name": "stdout",
     "output_type": "stream",
     "text": [
      "The difference between  (4+5j)  and  (2+7j)  =  (2-2j)\n"
     ]
    }
   ],
   "source": [
    "a = 4+5j\n",
    "b = 2+7j\n",
    "print('The difference between ',a,' and ',b,' = ',a-b)"
   ]
  },
  {
   "cell_type": "code",
   "execution_count": 3,
   "metadata": {},
   "outputs": [
    {
     "name": "stdout",
     "output_type": "stream",
     "text": [
      "Fourth root of  81  is  3.0\n"
     ]
    }
   ],
   "source": [
    "number = 81\n",
    "print('Fourth root of ',number,' is ',number**(1/4))"
   ]
  },
  {
   "cell_type": "code",
   "execution_count": 4,
   "metadata": {},
   "outputs": [
    {
     "name": "stdout",
     "output_type": "stream",
     "text": [
      "Actual numbers are, num1 =  5  and num2 =  10\n",
      "Swapped numbers are, num1 =  10  and num2 =  5\n"
     ]
    }
   ],
   "source": [
    "num1 = 5\n",
    "num2 = 10\n",
    "print('Actual numbers are, num1 = ',num1,' and num2 = ',num2)\n",
    "temp = num2\n",
    "num2 = num1\n",
    "num1 = temp\n",
    "print('Swapped numbers are, num1 = ',num1,' and num2 = ',num2)"
   ]
  },
  {
   "cell_type": "code",
   "execution_count": 5,
   "metadata": {},
   "outputs": [
    {
     "name": "stdout",
     "output_type": "stream",
     "text": [
      "Actual numbers are, n1 =  5  and n2 =  10\n",
      "Swapped numbers are, n1 =  10  and n2 =  5\n"
     ]
    }
   ],
   "source": [
    "n1 = 5\n",
    "n2 = 10\n",
    "print('Actual numbers are, n1 = ',n1,' and n2 = ',n2)\n",
    "n1 = n1+n2\n",
    "n2 = n1 - n2\n",
    "n1 = n1 - n2\n",
    "print('Swapped numbers are, n1 = ',n1,' and n2 = ',n2)"
   ]
  },
  {
   "cell_type": "code",
   "execution_count": 6,
   "metadata": {},
   "outputs": [
    {
     "name": "stdout",
     "output_type": "stream",
     "text": [
      "Fahrenheit Value =  99\n",
      "Celsius Value =  37.22222222222222\n",
      "Kelvin Value =  310.3722222222222\n"
     ]
    }
   ],
   "source": [
    "Fahrenheit_Value = 99\n",
    "print('Fahrenheit Value = ',Fahrenheit_Value)\n",
    "Celsius_Value = ((Fahrenheit_Value-32)*(5/9))\n",
    "print('Celsius Value = ',Celsius_Value)\n",
    "print('Kelvin Value = ',Celsius_Value+273.15)"
   ]
  },
  {
   "cell_type": "code",
   "execution_count": 7,
   "metadata": {},
   "outputs": [
    {
     "name": "stdout",
     "output_type": "stream",
     "text": [
      "I'm a string variable  is of type  <class 'str'>\n",
      "10  is of type  <class 'int'>\n",
      "(2+3j)  is of type  <class 'complex'>\n",
      "9.8  is of type  <class 'float'>\n",
      "[1, 5, 9, 8.6]  is of type  <class 'list'>\n",
      "(5, 7, 6)  is of type  <class 'tuple'>\n",
      "{'a': 'one', 'b': 'two', 'c': 'three'}  is of type  <class 'dict'>\n"
     ]
    }
   ],
   "source": [
    "str_var = \"I'm a string variable\"\n",
    "int_var = 10\n",
    "complex_var = 2+3j\n",
    "float_var = 9.8\n",
    "list_var = [1,5,9,8.6]\n",
    "tuple_var = (5,7,6)\n",
    "dict_var = {'a':'one','b':'two','c':'three'}\n",
    "print(str_var,' is of type ',type(str_var))\n",
    "print(int_var,' is of type ',type(int_var))\n",
    "print(complex_var,' is of type ',type(complex_var))\n",
    "print(float_var,' is of type ',type(float_var))\n",
    "print(list_var,' is of type ',type(list_var))\n",
    "print(tuple_var,' is of type ',type(tuple_var))\n",
    "print(dict_var,' is of type ',type(dict_var))"
   ]
  },
  {
   "cell_type": "markdown",
   "metadata": {},
   "source": [
    "# Steps to upload assignment\n",
    "1. Create a Github public repo and name it __LetsUpgrade AI/ML__\n",
    "2. Upload the files/solution in the repo in day wise manner.\n",
    "3. Copy the URL of the Folder of that day and paste in the ___Assignment Submission Form___ (Google Form)\n",
    "4. Make sure you are filling correct details in the Assignment Submission Form."
   ]
  },
  {
   "cell_type": "code",
   "execution_count": null,
   "metadata": {},
   "outputs": [],
   "source": []
  }
 ],
 "metadata": {
  "kernelspec": {
   "display_name": "Python 3",
   "language": "python",
   "name": "python3"
  },
  "language_info": {
   "codemirror_mode": {
    "name": "ipython",
    "version": 3
   },
   "file_extension": ".py",
   "mimetype": "text/x-python",
   "name": "python",
   "nbconvert_exporter": "python",
   "pygments_lexer": "ipython3",
   "version": "3.7.1"
  }
 },
 "nbformat": 4,
 "nbformat_minor": 2
}
