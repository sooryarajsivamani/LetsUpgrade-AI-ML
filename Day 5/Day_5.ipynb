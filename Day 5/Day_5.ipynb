{
 "cells": [
  {
   "cell_type": "code",
   "execution_count": 6,
   "metadata": {},
   "outputs": [
    {
     "name": "stdout",
     "output_type": "stream",
     "text": [
      "3 5 7 11 13 17 19 23 29 31 37 41 43 47 53 59 61 67 71 73 "
     ]
    }
   ],
   "source": [
    "# First 20 prime numbers\n",
    "prime_num = []\n",
    "num = 2\n",
    "while len(prime_num)<20:\n",
    "    factors=0\n",
    "    if num%2==1:\n",
    "        for i in range(2,num+1):\n",
    "            if num%i==0:\n",
    "                factors+=1\n",
    "        if factors==1:\n",
    "            prime_num.append(num)\n",
    "    num+=1\n",
    "\n",
    "for j in prime_num:\n",
    "    print(j,end=\" \")"
   ]
  },
  {
   "cell_type": "code",
   "execution_count": 28,
   "metadata": {},
   "outputs": [
    {
     "name": "stdout",
     "output_type": "stream",
     "text": [
      "converted to uppercase -     15 FUNCTIONS ON A PYTHON STRING   \n",
      "converted to lowercase -     15 functions on a python string   \n",
      "Replacing \"o\" with \"0\" -     15 Functi0ns 0n a Pyth0n string   \n",
      "split at white space and return list -  ['15', 'Functions', 'on', 'a', 'Python', 'string']\n",
      "Centered String -      15 Functions on a Python string     \n",
      "count of \"o\" -  3\n",
      "index of first occurance of \"P\"  21\n",
      "remove empty spaces -  15 Functions on a Python string\n",
      "swapcase -     15 fUNCTIONS ON A pYTHON STRING   \n",
      "check if its all uppercase -  False\n",
      "make length 40 by adding zeros in the beginning -  00000000015 Functions on a Python string\n",
      "check if there is extra space at the end  True\n",
      "check if its alphanumeric-  False\n",
      "trim spaces in the beginning -  15 Functions on a Python string   \n"
     ]
    }
   ],
   "source": [
    "#String functions\n",
    "a = '   15 Functions on a Python string   '\n",
    "\n",
    "print('converted to uppercase - ', a.upper())\n",
    "print('converted to lowercase - ', a.lower())\n",
    "print('Replacing \"o\" with \"0\" - ', a.replace('o','0'))\n",
    "print('split at white space and return list - ', a.split())\n",
    "print('Centered String - ', a.center(40))\n",
    "print('count of \"o\" - ', a.count('o'))\n",
    "print('index of first occurance of \"P\" ', a.index('P'))\n",
    "print('remove empty spaces - ', a.strip())\n",
    "print('swapcase - ', a.swapcase())\n",
    "print('check if its all uppercase - ', a.isupper())\n",
    "print('make length 40 by adding zeros in the beginning - ', a.strip().zfill(40))\n",
    "print('check if there is extra space at the end ', a.endswith(' '))\n",
    "print('check if its alphanumeric- ', a.strip().isalnum())\n",
    "print('trim spaces in the beginning - ', a.lstrip())"
   ]
  },
  {
   "cell_type": "code",
   "execution_count": 21,
   "metadata": {},
   "outputs": [
    {
     "name": "stdout",
     "output_type": "stream",
     "text": [
      "Enter string 1\n",
      "dormitory\n",
      "Enter String 2\n",
      "Dirty Room\n",
      "\" dormitory \"  and \" dirty room \"  are anagrams\n"
     ]
    }
   ],
   "source": [
    "# check if two words are palindrome or anagram\n",
    "print('Enter string 1')\n",
    "str_1=input().lower()\n",
    "print('Enter String 2')\n",
    "str_2=input().lower()\n",
    "list_1=list(str_1)\n",
    "list_2=list(str_2)\n",
    "\n",
    "if ' ' in list_1:\n",
    "    list_1.remove(' ')\n",
    "if ' ' in list_2:\n",
    "    list_2.remove(' ')\n",
    "\n",
    "if list_1 == list_2[::-1]:\n",
    "    print('\"',str_1,'\"',' and','\"',str_2,'\"',' are palindromes')\n",
    "elif sorted(list_1) == sorted(list_2):\n",
    "    print('\"',str_1,'\"',' and','\"',str_2,'\"',' are anagrams')\n",
    "else:\n",
    "    print('\"',str_1,'\"',' and','\"',str_2,'\"',' are neither palindromes nor anagrams')"
   ]
  },
  {
   "cell_type": "code",
   "execution_count": 23,
   "metadata": {},
   "outputs": [
    {
     "name": "stdout",
     "output_type": "stream",
     "text": [
      "Enter the string\n",
      "Dr. Darshan Ingle @AI-ML Trainer\n",
      "\n",
      "Original text is -  dr. darshan ingle @ai-ml trainer\n",
      "Converted text is -  drdarshaningleaimltrainer\n"
     ]
    }
   ],
   "source": [
    "#remove spl characters and conver to lower case\n",
    "\n",
    "def Remove_Spl(ip):\n",
    "    print()\n",
    "    print('Original text is - ',ip)\n",
    "    op=''\n",
    "    for i in ip:\n",
    "        if ord(i)>=97 and ord(i)<=122:\n",
    "            op+=i\n",
    "    print('Converted text is - ',op)\n",
    "\n",
    "\n",
    "print('Enter the string')\n",
    "input_str = input().lower()\n",
    "Remove_Spl(input_str)"
   ]
  }
 ],
 "metadata": {
  "kernelspec": {
   "display_name": "Python 3",
   "language": "python",
   "name": "python3"
  },
  "language_info": {
   "codemirror_mode": {
    "name": "ipython",
    "version": 3
   },
   "file_extension": ".py",
   "mimetype": "text/x-python",
   "name": "python",
   "nbconvert_exporter": "python",
   "pygments_lexer": "ipython3",
   "version": "3.7.1"
  }
 },
 "nbformat": 4,
 "nbformat_minor": 2
}
